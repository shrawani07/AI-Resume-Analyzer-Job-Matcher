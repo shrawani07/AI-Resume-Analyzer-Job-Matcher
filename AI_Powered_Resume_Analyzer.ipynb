{
 "cells": [
  {
   "cell_type": "code",
   "execution_count": 1,
   "id": "97bc7ee7-3678-489d-b486-5eb1c360db6f",
   "metadata": {},
   "outputs": [
    {
     "name": "stdout",
     "output_type": "stream",
     "text": [
      "Defaulting to user installation because normal site-packages is not writeable\n",
      "Requirement already satisfied: pdfplumber in c:\\users\\my lappy\\appdata\\roaming\\python\\python39\\site-packages (0.11.4)\n",
      "Requirement already satisfied: pytesseract in c:\\users\\my lappy\\appdata\\roaming\\python\\python39\\site-packages (0.3.13)\n",
      "Requirement already satisfied: pdf2image in c:\\users\\my lappy\\appdata\\roaming\\python\\python39\\site-packages (1.17.0)\n",
      "Requirement already satisfied: pdfminer.six==20231228 in c:\\users\\my lappy\\appdata\\roaming\\python\\python39\\site-packages (from pdfplumber) (20231228)\n",
      "Requirement already satisfied: Pillow>=9.1 in c:\\users\\my lappy\\appdata\\roaming\\python\\python39\\site-packages (from pdfplumber) (11.1.0)\n",
      "Requirement already satisfied: pypdfium2>=4.18.0 in c:\\users\\my lappy\\appdata\\roaming\\python\\python39\\site-packages (from pdfplumber) (4.30.1)\n",
      "Requirement already satisfied: charset-normalizer>=2.0.0 in c:\\users\\my lappy\\appdata\\roaming\\python\\python39\\site-packages (from pdfminer.six==20231228->pdfplumber) (3.4.1)\n",
      "Requirement already satisfied: cryptography>=36.0.0 in c:\\users\\my lappy\\appdata\\roaming\\python\\python39\\site-packages (from pdfminer.six==20231228->pdfplumber) (44.0.1)\n",
      "Requirement already satisfied: packaging>=21.3 in c:\\users\\my lappy\\appdata\\roaming\\python\\python39\\site-packages (from pytesseract) (24.2)\n",
      "Requirement already satisfied: cffi>=1.12 in c:\\users\\my lappy\\appdata\\roaming\\python\\python39\\site-packages (from cryptography>=36.0.0->pdfminer.six==20231228->pdfplumber) (1.17.1)\n",
      "Requirement already satisfied: pycparser in c:\\users\\my lappy\\appdata\\roaming\\python\\python39\\site-packages (from cffi>=1.12->cryptography>=36.0.0->pdfminer.six==20231228->pdfplumber) (2.22)\n",
      "Note: you may need to restart the kernel to use updated packages.\n"
     ]
    }
   ],
   "source": [
    "%pip install pdfplumber pytesseract pdf2image"
   ]
  },
  {
   "cell_type": "code",
   "execution_count": 2,
   "id": "c8a549cd-138a-464b-90b2-c42130077199",
   "metadata": {},
   "outputs": [],
   "source": [
    "import pdfplumber\n",
    "import pytesseract\n",
    "from pdf2image import convert_from_path"
   ]
  },
  {
   "cell_type": "code",
   "execution_count": 3,
   "id": "e59ef162-2724-46d9-b093-99f6fdb4b9a4",
   "metadata": {},
   "outputs": [],
   "source": [
    "def extract_text_from_pdf(pdf_path):\n",
    "    text = \"\"\n",
    "    try:\n",
    "        # Try direct text extraction\n",
    "        with pdfplumber.open(pdf_path) as pdf:\n",
    "            for page in pdf.pages:\n",
    "                page_text = page.extract_text()\n",
    "                if page_text:\n",
    "                    text += page_text\n",
    "\n",
    "        if text.strip():\n",
    "            return text.strip()\n",
    "    except Exception as e:\n",
    "        print(f\"Direct text extraction failed: {e}\")\n",
    "\n",
    "    # Fallback to OCR for image-based PDFs\n",
    "    print(\"Falling back to OCR for image-based PDF.\")\n",
    "    try:\n",
    "        images = convert_from_path(pdf_path)\n",
    "        for image in images:\n",
    "            page_text = pytesseract.image_to_string(image)\n",
    "            text += page_text + \"\\n\"\n",
    "    except Exception as e:\n",
    "        print(f\"OCR failed: {e}\")\n",
    "\n",
    "    return text.strip()"
   ]
  },
  {
   "cell_type": "code",
   "execution_count": 4,
   "id": "ec0bc03c-01d8-4425-b45f-315490adaeda",
   "metadata": {},
   "outputs": [
    {
     "name": "stdout",
     "output_type": "stream",
     "text": [
      "\n",
      "Extracted Text from PDF:\n",
      "Shrawani Gongshe\n",
      "# sgongshe@gmail.com (cid:239) ShrawaniGongshe Github\n",
      "Education\n",
      "Prof Ram Meghe Institute of Technology and Research Nov 2022 - Jul 2026\n",
      "Bachelor of Technology in Artificial Intelligence and Data Science - CGPA:8.6 Maharashtra, India\n",
      "Rural Institute of Junior College Amravati Aug 2020 - 2022\n",
      "General Science - Percentage: 72.12% Maharashtra, India\n",
      "St. George’s English School Jun 2015 - 2020\n",
      "State Board - Percentage: 84.68% Maharashtra, India\n",
      "Technical Skills\n",
      "Languages: Python,C++,SQL\n",
      "Technologies/Libraries: PowerBi, Microsoft Excel, Pandas, Numpy, Scipy, Scikit ,Matplotlib, Seaborn.\n",
      "Developer Tools: VS Code, Jupyter, Anaconda, Pycharm,Kaggle\n",
      "Experience\n",
      "Ai Prompt Engineering Intern JUL 2024 – AUG 2024\n",
      "ValuesofCodes\n",
      "• Designed and optimized prompt structures to enhance AI model performance, resulting in a 20% improvement in\n",
      "response accuracy.\n",
      "• Created a user-friendly GUI using Tkinter, enabling users to send and receive messages, images, and video files.\n",
      "Integrated a file transfer feature allowing users to share images and videos seamlessly. Added real-time notifications using\n",
      "the plyer library to alert users of new messages or file transfers.\n",
      "Projects\n",
      "Chat Application | Python ,Tkinter, socket, threading, PIL (Pillow), plyer | Github Aug 2024 4\n",
      "• Created a user-friendly GUI using Tkinter, enabling users to send and receive messages, images, and video files.\n",
      "Integrated a file transfer feature allowing users to share images and videos seamlessly. Added real-time notifications\n",
      "using the plyer library to alert users of new messages or file transfers.\n",
      "• Designed and implemented the server architecture to manage multiple client connections using Python’s socket and\n",
      "threading libraries. Developed robust file transfer functionality with support for various file types, ensuring data\n",
      "integrity and efficient handling of large files..\n",
      "AI Assistant Project | Python, SpeechRecognition, gTTS (Google Text-to-Speech), OpenCV | Github Aug 2023 4\n",
      "• Designed and implemented a sophisticated AI assistant using Python, capable of voice recognition, text-to-speech\n",
      "synthesis, and executing system commands. Enhanced the assistant with the ability to interact with hardware, including\n",
      "launching the webcam and capturing images in real-time.\n",
      "• Automated various tasks, such as web browsing, file management, and system commands, improving productivity\n",
      "and user interaction Leveraged NLP techniques for understanding and responding to user queries, including interacting\n",
      "with web services like Google, Wikipedia, and weather APIs.\n",
      "Face Detection | Python, OpenCV, FER (Facial Expression Recognition) library, | Github JUL 2024 4\n",
      "• Implemented a system that detects and classifies human emotions in real-time from live video streams, identifying\n",
      "emotions such as happiness, sadness, anger, and surprise. Utilized OpenCV and Haar Cascade Classifier for\n",
      "real-time face detection, accurately identifying and localizing facial regions in video frames.\n",
      "• Employed the FER library to analyze facial expressions and extract emotional states, displaying the detected emotion\n",
      "along with a confidence score. Captured and processed real-time video feeds with OpenCV, ensuring efficient and\n",
      "smooth emotion detection and display in live video.\n",
      "Certifications\n",
      "• Data Analytics and Visualization Certification, Forage,Accenture, 2024\n",
      "• Data Analysis with Python Certification, FreeCodeCamp, 2024\n",
      "• Python 101 for Data Science Certification, IBM, 2023\n",
      "• Excel Skilss Certification, Forage,Jp morgan, 2024\n"
     ]
    }
   ],
   "source": [
    "pdf_path = \"Resume.pdf\"\n",
    "resume_text = extract_text_from_pdf(pdf_path)\n",
    "\n",
    "print(\"\\nExtracted Text from PDF:\")\n",
    "print(resume_text)"
   ]
  },
  {
   "cell_type": "markdown",
   "id": "21c29ba8-97b8-4604-8317-501b639854e6",
   "metadata": {},
   "source": [
    "Set Google GenerativeAI Api Key"
   ]
  },
  {
   "cell_type": "code",
   "execution_count": 5,
   "id": "6ef11b83-86ba-4961-a14c-99b7f11fcbc3",
   "metadata": {},
   "outputs": [
    {
     "name": "stdout",
     "output_type": "stream",
     "text": [
      "Defaulting to user installation because normal site-packages is not writeableNote: you may need to restart the kernel to use updated packages.\n",
      "\n",
      "Requirement already satisfied: google.generativeai in c:\\users\\my lappy\\appdata\\roaming\\python\\python39\\site-packages (0.8.4)\n",
      "Requirement already satisfied: python-dotenv in c:\\users\\my lappy\\appdata\\roaming\\python\\python39\\site-packages (1.0.1)\n",
      "Requirement already satisfied: google-ai-generativelanguage==0.6.15 in c:\\users\\my lappy\\appdata\\roaming\\python\\python39\\site-packages (from google.generativeai) (0.6.15)\n",
      "Requirement already satisfied: google-api-core in c:\\users\\my lappy\\appdata\\roaming\\python\\python39\\site-packages (from google.generativeai) (2.24.1)\n",
      "Requirement already satisfied: google-api-python-client in c:\\users\\my lappy\\appdata\\roaming\\python\\python39\\site-packages (from google.generativeai) (2.162.0)\n",
      "Requirement already satisfied: google-auth>=2.15.0 in c:\\users\\my lappy\\appdata\\roaming\\python\\python39\\site-packages (from google.generativeai) (2.38.0)\n",
      "Requirement already satisfied: protobuf in c:\\users\\my lappy\\appdata\\roaming\\python\\python39\\site-packages (from google.generativeai) (5.29.3)\n",
      "Requirement already satisfied: pydantic in c:\\users\\my lappy\\appdata\\roaming\\python\\python39\\site-packages (from google.generativeai) (2.10.6)\n",
      "Requirement already satisfied: tqdm in c:\\users\\my lappy\\appdata\\roaming\\python\\python39\\site-packages (from google.generativeai) (4.67.1)\n",
      "Requirement already satisfied: typing-extensions in c:\\users\\my lappy\\appdata\\roaming\\python\\python39\\site-packages (from google.generativeai) (4.12.2)\n",
      "Requirement already satisfied: proto-plus<2.0.0dev,>=1.22.3 in c:\\users\\my lappy\\appdata\\roaming\\python\\python39\\site-packages (from google-ai-generativelanguage==0.6.15->google.generativeai) (1.26.0)\n",
      "Requirement already satisfied: googleapis-common-protos<2.0.dev0,>=1.56.2 in c:\\users\\my lappy\\appdata\\roaming\\python\\python39\\site-packages (from google-api-core->google.generativeai) (1.68.0)\n",
      "Requirement already satisfied: requests<3.0.0.dev0,>=2.18.0 in c:\\users\\my lappy\\appdata\\roaming\\python\\python39\\site-packages (from google-api-core->google.generativeai) (2.32.3)\n",
      "Requirement already satisfied: cachetools<6.0,>=2.0.0 in c:\\users\\my lappy\\appdata\\roaming\\python\\python39\\site-packages (from google-auth>=2.15.0->google.generativeai) (5.5.2)\n",
      "Requirement already satisfied: pyasn1-modules>=0.2.1 in c:\\users\\my lappy\\appdata\\roaming\\python\\python39\\site-packages (from google-auth>=2.15.0->google.generativeai) (0.4.1)\n",
      "Requirement already satisfied: rsa<5,>=3.1.4 in c:\\users\\my lappy\\appdata\\roaming\\python\\python39\\site-packages (from google-auth>=2.15.0->google.generativeai) (4.9)\n",
      "Requirement already satisfied: httplib2<1.dev0,>=0.19.0 in c:\\users\\my lappy\\appdata\\roaming\\python\\python39\\site-packages (from google-api-python-client->google.generativeai) (0.22.0)\n",
      "Requirement already satisfied: google-auth-httplib2<1.0.0,>=0.2.0 in c:\\users\\my lappy\\appdata\\roaming\\python\\python39\\site-packages (from google-api-python-client->google.generativeai) (0.2.0)\n",
      "Requirement already satisfied: uritemplate<5,>=3.0.1 in c:\\users\\my lappy\\appdata\\roaming\\python\\python39\\site-packages (from google-api-python-client->google.generativeai) (4.1.1)\n",
      "Requirement already satisfied: annotated-types>=0.6.0 in c:\\users\\my lappy\\appdata\\roaming\\python\\python39\\site-packages (from pydantic->google.generativeai) (0.7.0)\n",
      "Requirement already satisfied: pydantic-core==2.27.2 in c:\\users\\my lappy\\appdata\\roaming\\python\\python39\\site-packages (from pydantic->google.generativeai) (2.27.2)\n",
      "Requirement already satisfied: colorama in c:\\users\\my lappy\\appdata\\roaming\\python\\python39\\site-packages (from tqdm->google.generativeai) (0.4.6)\n",
      "Requirement already satisfied: grpcio<2.0dev,>=1.33.2 in c:\\users\\my lappy\\appdata\\roaming\\python\\python39\\site-packages (from google-api-core[grpc]!=2.0.*,!=2.1.*,!=2.10.*,!=2.2.*,!=2.3.*,!=2.4.*,!=2.5.*,!=2.6.*,!=2.7.*,!=2.8.*,!=2.9.*,<3.0.0dev,>=1.34.1->google-ai-generativelanguage==0.6.15->google.generativeai) (1.71.0rc2)\n",
      "Requirement already satisfied: grpcio-status<2.0.dev0,>=1.33.2 in c:\\users\\my lappy\\appdata\\roaming\\python\\python39\\site-packages (from google-api-core[grpc]!=2.0.*,!=2.1.*,!=2.10.*,!=2.2.*,!=2.3.*,!=2.4.*,!=2.5.*,!=2.6.*,!=2.7.*,!=2.8.*,!=2.9.*,<3.0.0dev,>=1.34.1->google-ai-generativelanguage==0.6.15->google.generativeai) (1.71.0rc2)\n",
      "Requirement already satisfied: pyparsing!=3.0.0,!=3.0.1,!=3.0.2,!=3.0.3,<4,>=2.4.2 in c:\\users\\my lappy\\appdata\\roaming\\python\\python39\\site-packages (from httplib2<1.dev0,>=0.19.0->google-api-python-client->google.generativeai) (3.2.1)\n",
      "Requirement already satisfied: pyasn1<0.7.0,>=0.4.6 in c:\\users\\my lappy\\appdata\\roaming\\python\\python39\\site-packages (from pyasn1-modules>=0.2.1->google-auth>=2.15.0->google.generativeai) (0.6.1)\n",
      "Requirement already satisfied: charset-normalizer<4,>=2 in c:\\users\\my lappy\\appdata\\roaming\\python\\python39\\site-packages (from requests<3.0.0.dev0,>=2.18.0->google-api-core->google.generativeai) (3.4.1)\n",
      "Requirement already satisfied: idna<4,>=2.5 in c:\\users\\my lappy\\appdata\\roaming\\python\\python39\\site-packages (from requests<3.0.0.dev0,>=2.18.0->google-api-core->google.generativeai) (3.10)\n",
      "Requirement already satisfied: urllib3<3,>=1.21.1 in c:\\users\\my lappy\\appdata\\roaming\\python\\python39\\site-packages (from requests<3.0.0.dev0,>=2.18.0->google-api-core->google.generativeai) (2.3.0)\n",
      "Requirement already satisfied: certifi>=2017.4.17 in c:\\users\\my lappy\\appdata\\roaming\\python\\python39\\site-packages (from requests<3.0.0.dev0,>=2.18.0->google-api-core->google.generativeai) (2025.1.31)\n"
     ]
    }
   ],
   "source": [
    "%pip install google.generativeai python-dotenv"
   ]
  },
  {
   "cell_type": "code",
   "execution_count": 6,
   "id": "c5fde569-3b4a-4ad8-b663-8590faabaa6d",
   "metadata": {},
   "outputs": [
    {
     "name": "stderr",
     "output_type": "stream",
     "text": [
      "C:\\Users\\My Lappy\\AppData\\Roaming\\Python\\Python39\\site-packages\\tqdm\\auto.py:21: TqdmWarning: IProgress not found. Please update jupyter and ipywidgets. See https://ipywidgets.readthedocs.io/en/stable/user_install.html\n",
      "  from .autonotebook import tqdm as notebook_tqdm\n"
     ]
    }
   ],
   "source": [
    "import google.generativeai as genai\n",
    "import os\n",
    "from dotenv import load_dotenv\n",
    "\n",
    "load_dotenv()\n",
    "genai.configure(api_key=os.getenv(\"GOOGLE_API_KEY\"))\n",
    "model = genai.GenerativeModel(\"gemini-1.5-flash\")"
   ]
  },
  {
   "cell_type": "code",
   "execution_count": 7,
   "id": "77f9d2a9-ea08-484a-abb7-7af07894bc1d",
   "metadata": {},
   "outputs": [],
   "source": [
    "response = model.generate_content(\"What is the capital of India?\")"
   ]
  },
  {
   "cell_type": "code",
   "execution_count": 8,
   "id": "c76e275c-b4ae-4044-a259-8261bae6a363",
   "metadata": {},
   "outputs": [
    {
     "name": "stdout",
     "output_type": "stream",
     "text": [
      "response:\n",
      "GenerateContentResponse(\n",
      "    done=True,\n",
      "    iterator=None,\n",
      "    result=protos.GenerateContentResponse({\n",
      "      \"candidates\": [\n",
      "        {\n",
      "          \"content\": {\n",
      "            \"parts\": [\n",
      "              {\n",
      "                \"text\": \"The capital of India is **New Delhi**.\\n\"\n",
      "              }\n",
      "            ],\n",
      "            \"role\": \"model\"\n",
      "          },\n",
      "          \"finish_reason\": \"STOP\",\n",
      "          \"avg_logprobs\": -0.0026348641142249106\n",
      "        }\n",
      "      ],\n",
      "      \"usage_metadata\": {\n",
      "        \"prompt_token_count\": 7,\n",
      "        \"candidates_token_count\": 10,\n",
      "        \"total_token_count\": 17\n",
      "      },\n",
      "      \"model_version\": \"gemini-1.5-flash\"\n",
      "    }),\n",
      ")\n"
     ]
    }
   ],
   "source": [
    "print(response)"
   ]
  },
  {
   "cell_type": "code",
   "execution_count": 9,
   "id": "6098622a-91c1-4edb-9cda-0cc2a041990a",
   "metadata": {},
   "outputs": [
    {
     "name": "stdout",
     "output_type": "stream",
     "text": [
      "The capital of India is **New Delhi**.\n",
      "\n"
     ]
    }
   ],
   "source": [
    "print(response.text)"
   ]
  },
  {
   "cell_type": "markdown",
   "id": "9ced4ff3-61be-4ec6-8cd0-68c039365972",
   "metadata": {},
   "source": [
    "Resume Analysis"
   ]
  },
  {
   "cell_type": "code",
   "execution_count": 10,
   "id": "e3d23860-f0e0-417f-b57d-c996159a32d5",
   "metadata": {},
   "outputs": [],
   "source": [
    "def analyze_resume(resume_text, job_description=None):\n",
    "    if not resume_text:\n",
    "        return {\"error\": \"Resume text is required for analysis.\"}\n",
    "    \n",
    "    model = genai.GenerativeModel(\"gemini-1.5-flash\")\n",
    "    \n",
    "    base_prompt = f\"\"\"\n",
    "    You are an experienced HR with Technical Experience in the field of any one job role from Data Science, Data Analyst, DevOPS, Machine Learning Engineer, Prompt Engineer, AI Engineer, Full Stack Web Development, Big Data Engineering, Marketing Analyst, Human Resource Manager, Software Developer your task is to review the provided resume.\n",
    "    Please share your professional evaluation on whether the candidate's profile aligns with the role.ALso mention Skills he already have and siggest some skills to imorve his resume , alos suggest some course he might take to improve the skills.Highlight the strengths and weaknesses.\n",
    "\n",
    "    Resume:\n",
    "    {resume_text}\n",
    "    \"\"\"\n",
    "\n",
    "    if job_description:\n",
    "        base_prompt += f\"\"\"\n",
    "        Additionally, compare this resume to the following job description:\n",
    "        \n",
    "        Job Description:\n",
    "        {job_description}\n",
    "        \n",
    "        Highlight the strengths and weaknesses of the applicant in relation to the specified job requirements.\n",
    "        \"\"\"\n",
    "\n",
    "    response = model.generate_content(base_prompt)\n",
    "\n",
    "    analysis = response.text.strip()\n",
    "    return analysis"
   ]
  },
  {
   "cell_type": "code",
   "execution_count": 11,
   "id": "099d994e-03aa-4dd8-8716-b8e759d7de57",
   "metadata": {},
   "outputs": [
    {
     "name": "stdout",
     "output_type": "stream",
     "text": [
      "## Resume Evaluation for Shrawani Gongshe -  Prompt Engineering Role\n",
      "\n",
      "**Overall Impression:** Shrawani's resume showcases a promising start in the field of AI, particularly in prompt engineering.  Her projects demonstrate practical application of relevant skills, and her certifications bolster her foundational knowledge. However, there's room for improvement in terms of quantifiable results and showcasing more advanced skills. As an experienced HR professional with a background in Data Science, I'd assess her fit for a junior Prompt Engineering role as potentially strong, but requiring further development.\n",
      "\n",
      "**Strengths:**\n",
      "\n",
      "* **Relevant Projects:**  Her projects directly relate to prompt engineering and AI applications (chat application, AI assistant, face detection). This practical experience is a significant strength. The inclusion of Github links allows for easy verification of her work.\n",
      "* **Technical Skills:**  She possesses a solid foundation in Python, including relevant libraries like Pandas, NumPy, Scikit-learn, Matplotlib, and Seaborn.  Her familiarity with Tkinter for GUI development is also valuable.\n",
      "* **Certifications:** The certifications from reputable organizations like IBM, FreeCodeCamp, and Forage demonstrate a commitment to learning and validate her skillset.\n",
      "* **Quantifiable Result (Intern):**  The 20% improvement in response accuracy during her internship is a strong quantifiable achievement.\n",
      "\n",
      "\n",
      "**Weaknesses:**\n",
      "\n",
      "* **Lack of Depth in Prompt Engineering:** While her projects touch upon AI, they don't explicitly showcase advanced prompt engineering techniques like few-shot learning, chain-of-thought prompting, or prompt optimization strategies beyond simple structural changes. The resume needs to highlight specific prompt engineering methodologies employed.\n",
      "* **Limited Experience:**  The internship and projects, while impressive for a student, represent relatively limited professional experience.  More substantial projects or contributions (e.g., open-source contributions, Kaggle competitions with strong performance) would significantly strengthen her application.\n",
      "* **Missing Soft Skills:**  The resume lacks mention of soft skills crucial for prompt engineers, such as communication, problem-solving, teamwork, and the ability to work with cross-functional teams.\n",
      "* **Resume Formatting:** The resume formatting could be improved for better readability and impact. Using a standard resume template and clearly separating sections would enhance its professional appeal.\n",
      "* **No mention of deployed applications:**  While her projects are impressive, showing some evidence of deployed application (even a personal website) would further boost her profile.\n",
      "\n",
      "\n",
      "**Skills She Already Has:**\n",
      "\n",
      "* Python Programming (with relevant libraries for data science and AI)\n",
      "* GUI Development (Tkinter)\n",
      "* Networking (Sockets, Threading)\n",
      "* Image Processing (PIL, OpenCV)\n",
      "* NLP Basics (Speech Recognition, Text-to-Speech)\n",
      "* Data Analysis and Visualization (Pandas, Matplotlib, Seaborn, Power BI)\n",
      "* Machine Learning Fundamentals (Scikit-learn)\n",
      "* Basic Prompt Engineering\n",
      "\n",
      "\n",
      "**Skills to Improve:**\n",
      "\n",
      "* **Advanced Prompt Engineering Techniques:**  Few-shot learning, chain-of-thought prompting, prompt engineering for different model architectures (LLMs, etc.).\n",
      "* **Model Fine-tuning and Evaluation:** Experience with fine-tuning large language models or evaluating the effectiveness of prompts using appropriate metrics.\n",
      "* **Natural Language Processing (NLP):**  Deeper understanding of NLP concepts, techniques, and libraries beyond basic speech recognition and text-to-speech.\n",
      "* **Cloud Computing (AWS, Azure, GCP):** Familiarity with cloud platforms is becoming increasingly important for deploying and managing AI applications.\n",
      "* **MLOps (for larger projects):**  Understanding of the principles of managing the lifecycle of machine learning models.\n",
      "* **Soft Skills:** Explicitly mention communication, teamwork, problem-solving abilities.\n",
      "\n",
      "\n",
      "**Suggested Courses:**\n",
      "\n",
      "* **Advanced Prompt Engineering Specialization (Coursera, edX, Udacity):**  Look for courses specifically focused on advanced prompt engineering techniques.\n",
      "* **Deep Learning Specialization (Andrew Ng, Coursera):**  To deepen understanding of underlying models.\n",
      "* **NLP Specialization (Stanford, Coursera):**  For a comprehensive understanding of NLP techniques.\n",
      "* **Cloud Computing Fundamentals (AWS, Azure, GCP):** Choose a platform based on industry demand.\n",
      "* **MLOps Fundamentals (various online platforms):** To understand model deployment and management.\n",
      "\n",
      "\n",
      "**Recommendations:**\n",
      "\n",
      "1. **Quantify accomplishments:**  Instead of just describing project features, quantify the impact (e.g., \"Reduced processing time by 15%,\" \"Improved user engagement by 20%\").\n",
      "2. **Focus on prompt engineering:**  Rework the resume to highlight the prompt engineering aspects of her projects more prominently.  Add specific examples of prompt design and optimization strategies employed.\n",
      "3. **Add a portfolio website:**  Create a portfolio website to showcase her projects in a more visually appealing and organized manner.\n",
      "4. **Include soft skills:**  Explicitly mention relevant soft skills in a dedicated section or integrate them naturally within project descriptions.\n",
      "5. **Seek more challenging projects:** Contribute to open-source projects related to prompt engineering or participate in Kaggle competitions to gain experience with more complex datasets and models.\n",
      "\n",
      "\n",
      "By addressing these weaknesses and focusing on the suggested improvements, Shrawani can significantly strengthen her resume and increase her competitiveness for junior prompt engineering roles.  Her current foundation is solid, and with strategic development, she possesses great potential.\n"
     ]
    }
   ],
   "source": [
    "print(analyze_resume(resume_text))"
   ]
  },
  {
   "cell_type": "code",
   "execution_count": null,
   "id": "1a54b038-c3e9-4857-8c13-985b80973506",
   "metadata": {},
   "outputs": [],
   "source": []
  }
 ],
 "metadata": {
  "kernelspec": {
   "display_name": "Python 3 (ipykernel)",
   "language": "python",
   "name": "python3"
  },
  "language_info": {
   "codemirror_mode": {
    "name": "ipython",
    "version": 3
   },
   "file_extension": ".py",
   "mimetype": "text/x-python",
   "name": "python",
   "nbconvert_exporter": "python",
   "pygments_lexer": "ipython3",
   "version": "3.9.5"
  }
 },
 "nbformat": 4,
 "nbformat_minor": 5
}
